{
 "cells": [
  {
   "cell_type": "markdown",
   "metadata": {},
   "source": [
    "### 펀다 상점 매출 Using Facebook Prophet \n",
    "- 대회 예측용 코드 \n",
    "- 카드거래 취소 적용한 data_pos.csv 사용\n",
    "- 파라미터 \n",
    "    - 샘플링 관련\n",
    "        - sampling_period_days : 14\n",
    "        - make_future : (periods=6,freq='2W')\n",
    "    - 트랜드 관련\n",
    "        - changepoint_range : 기본 0.8\n",
    "        - changepoint_prior_scale : cps = max(0.5*((1 - (count_zero)/len(store_ts))),0.05)"
   ]
  },
  {
   "cell_type": "code",
   "execution_count": 1,
   "metadata": {},
   "outputs": [
    {
     "name": "stdout",
     "output_type": "stream",
     "text": [
      "done\n"
     ]
    }
   ],
   "source": [
    "import numpy as np\n",
    "import pandas as pd\n",
    "from pandas import datetime\n",
    "import matplotlib.pyplot as plt\n",
    "from fbprophet import Prophet\n",
    "import warnings\n",
    "warnings.filterwarnings(action='ignore')\n",
    "\n",
    "from datetime import date, timedelta\n",
    "from lunarcalendar import Lunar, Converter\n",
    "print(\"done\")"
   ]
  },
  {
   "cell_type": "code",
   "execution_count": 2,
   "metadata": {},
   "outputs": [
    {
     "name": "stdout",
     "output_type": "stream",
     "text": [
      "done\n"
     ]
    }
   ],
   "source": [
    "df = pd.read_csv('data_pos.csv')\n",
    "print(\"done\")"
   ]
  },
  {
   "cell_type": "code",
   "execution_count": 3,
   "metadata": {},
   "outputs": [
    {
     "name": "stdout",
     "output_type": "stream",
     "text": [
      "store list :\n",
      "[   0    1    2 ... 2134 2135 2136]\n",
      "done\n"
     ]
    }
   ],
   "source": [
    "df.transacted_date = pd.to_datetime(df.transacted_date)\n",
    "test_groupby_date_store = df.groupby(['transacted_date', 'store_id'])['amount'].sum()\n",
    "test_groupby_date_store = test_groupby_date_store.reset_index()\n",
    "test_groupby_date_store = test_groupby_date_store.set_index('transacted_date')\n",
    "store_list = test_groupby_date_store.store_id.unique()\n",
    "store_list.sort()\n",
    "print(\"store list :\")\n",
    "print(store_list)\n",
    "ts_train = test_groupby_date_store\n",
    "print(\"done\")"
   ]
  },
  {
   "cell_type": "code",
   "execution_count": 4,
   "metadata": {},
   "outputs": [],
   "source": [
    "def sampling(input_df, sampling_period_days):\n",
    "    input_df = input_df[len(input_df) % sampling_period_days:].resample(str(sampling_period_days) + 'D').sum()\n",
    "    return input_df"
   ]
  },
  {
   "cell_type": "code",
   "execution_count": null,
   "metadata": {
    "scrolled": false
   },
   "outputs": [],
   "source": [
    "store_amount = {}\n",
    "store_amount['store_id'] = []\n",
    "store_amount['amount'] = []\n",
    "i = 0\n",
    "total = len(store_list)\n",
    "for store_id in store_list[:]:\n",
    "    i += 1\n",
    "    \n",
    "    store_ts = ts_train[ts_train.store_id==store_id]\n",
    "    store_ts = sampling(store_ts,14)\n",
    "    count_zero = len(store_ts[(store_ts.amount == 0) | (store_ts.amount.isna())])\n",
    "    cps = max(0.5*((1 - (count_zero)/len(store_ts))),0.05)\n",
    "    print(\"{}/{} cps: {}\".format(i,total,cps))\n",
    "    store_ts['y'] = store_ts['amount']\n",
    "    store_ts['ds'] = store_ts.index\n",
    "    store_ts = store_ts.drop('amount', axis=1)\n",
    "    store_ts = store_ts.drop('store_id', axis=1) \n",
    "    m = Prophet(changepoint_prior_scale=cps)\n",
    "    m_fit = m.fit(store_ts)\n",
    "    future = m_fit.make_future_dataframe(periods=6,freq='2W')\n",
    "    forecast = m_fit.predict(future)\n",
    "    size = store_ts.shape[0]\n",
    "    result = np.sum(forecast.yhat[size:])\n",
    "    store_amount['store_id'].append(store_id)\n",
    "    store_amount['amount'].append(result)\n",
    "    \n",
    "#     print(forecast[size:])\n",
    "#     print(forecast.yhat[size:])\n",
    "#     fig1 = m.plot(forecast)"
   ]
  },
  {
   "cell_type": "markdown",
   "metadata": {},
   "source": []
  },
  {
   "cell_type": "code",
   "execution_count": 8,
   "metadata": {},
   "outputs": [
    {
     "name": "stdout",
     "output_type": "stream",
     "text": [
      "      store_id        amount\n",
      "0            0  1.633533e+06\n",
      "1            1  2.785406e+05\n",
      "2            2  1.137867e+06\n",
      "3            4  2.398051e+06\n",
      "4            5  7.192685e+05\n",
      "5            6  4.894252e+06\n",
      "6            7 -1.564414e+05\n",
      "7            8  4.152284e+06\n",
      "8            9  1.525754e+06\n",
      "9           10  1.712936e+06\n",
      "10          11  1.275503e+06\n",
      "11          12  1.116099e+06\n",
      "12          13  1.770893e+06\n",
      "13          14  9.552226e+06\n",
      "14          15  1.272486e+06\n",
      "15          16  4.485323e+05\n",
      "16          17  5.940596e+05\n",
      "17          18  9.875865e+05\n",
      "18          19  4.946695e+06\n",
      "19          20  5.386338e+06\n",
      "20          22  5.849912e+05\n",
      "21          23  2.374524e+06\n",
      "22          24  2.833588e+06\n",
      "23          25  4.282547e+05\n",
      "24          26  4.287284e+05\n",
      "25          27  6.405410e+06\n",
      "26          28  3.096619e+06\n",
      "27          29  1.764584e+06\n",
      "28          30  9.580443e+05\n",
      "29          31  1.821196e+06\n",
      "...        ...           ...\n",
      "1937      2106  3.596804e+06\n",
      "1938      2107  2.583276e+05\n",
      "1939      2108  3.850483e+06\n",
      "1940      2109  6.955533e+06\n",
      "1941      2110  6.381162e+05\n",
      "1942      2111  1.813489e+06\n",
      "1943      2112  8.126761e+06\n",
      "1944      2113  4.720855e+06\n",
      "1945      2114  5.613757e+06\n",
      "1946      2115  1.787760e+06\n",
      "1947      2116  5.875343e+06\n",
      "1948      2117  1.620338e+06\n",
      "1949      2118  2.665883e+06\n",
      "1950      2119  2.623287e+06\n",
      "1951      2120  6.468627e+06\n",
      "1952      2121  4.105704e+06\n",
      "1953      2122  7.227375e+06\n",
      "1954      2123  1.506097e+06\n",
      "1955      2124  8.303334e+05\n",
      "1956      2125  4.380591e+06\n",
      "1957      2126  3.447176e+05\n",
      "1958      2127  1.029378e+06\n",
      "1959      2128  1.114945e+06\n",
      "1960      2129  2.807729e+05\n",
      "1961      2130  1.401301e+05\n",
      "1962      2132  1.304113e+06\n",
      "1963      2133  3.308771e+05\n",
      "1964      2134  3.421412e+05\n",
      "1965      2135  1.454852e+06\n",
      "1966      2136  4.892309e+06\n",
      "\n",
      "[1967 rows x 2 columns]\n"
     ]
    }
   ],
   "source": [
    "out_ff = pd.DataFrame(store_amount,columns=['store_id','amount'])  \n",
    "print(out_ff)\n",
    "out_ff.to_csv(\"prophet2W6P-CPS0.5.csv\", mode='w',index=False) # 새파일로 덮어쓰기"
   ]
  },
  {
   "cell_type": "code",
   "execution_count": null,
   "metadata": {},
   "outputs": [],
   "source": [
    "true_sum"
   ]
  },
  {
   "cell_type": "code",
   "execution_count": null,
   "metadata": {},
   "outputs": [],
   "source": [
    "new_true_dict = {}\n",
    "new_true_dict['store_id'] = []\n",
    "new_true_dict['amount'] = []\n",
    "new_test_dict = {}\n",
    "new_test_dict['store_id'] = []\n",
    "new_test_dict['amount'] = []\n",
    "# print(store_list)\n",
    "for store_id in store_list[:]:\n",
    "#     print(store_id)\n",
    "    new_true_dict['amount'].append(true_sum[store_id])\n",
    "    new_true_dict['store_id'].append(store_id)\n",
    "    try:\n",
    "        new_test_dict['amount'].append(test_sum[store_id])\n",
    "    except:\n",
    "        print(store_id)\n",
    "    new_test_dict['store_id'].append(store_id)\n",
    "# print(new_test_dict)\n",
    "true_frame = pd.DataFrame(new_true_dict)   \n",
    "true_frame =true_frame.set_index(\"store_id\")\n",
    "predict_frame = pd.DataFrame(new_test_dict)\n",
    "predict_frame = predict_frame.set_index(\"store_id\")\n",
    "predict_frame = predict_frame['amount'].apply((lambda x: x*1))\n",
    "print(\"done\")"
   ]
  },
  {
   "cell_type": "code",
   "execution_count": null,
   "metadata": {},
   "outputs": [],
   "source": [
    "plt.figure(figsize=(22,10))\n",
    "plt.plot(true_frame,label = \"true_sum\")\n",
    "plt.plot(predict_frame,label = \"predict_sum\")\n",
    "plt.title(\"Time Series Forecast\")\n",
    "plt.xlabel(\"store id\")\n",
    "plt.ylabel(\"total amount\")\n",
    "plt.legend()\n",
    "plt.tight_layout()\n",
    "plt.show()"
   ]
  },
  {
   "cell_type": "code",
   "execution_count": null,
   "metadata": {},
   "outputs": [],
   "source": [
    "# MAE 값\n",
    "from sklearn.metrics import mean_absolute_error\n",
    "mae = mean_absolute_error(predict_frame[:114],true_frame[:114])\n",
    "print(mae)"
   ]
  }
 ],
 "metadata": {
  "kernelspec": {
   "display_name": "Python 3",
   "language": "python",
   "name": "python3"
  },
  "language_info": {
   "codemirror_mode": {
    "name": "ipython",
    "version": 3
   },
   "file_extension": ".py",
   "mimetype": "text/x-python",
   "name": "python",
   "nbconvert_exporter": "python",
   "pygments_lexer": "ipython3",
   "version": "3.5.5"
  }
 },
 "nbformat": 4,
 "nbformat_minor": 2
}
